{
 "cells": [
  {
   "cell_type": "code",
   "execution_count": 4,
   "metadata": {},
   "outputs": [],
   "source": [
    "import sys\n",
    "\n",
    "\n",
    "class Solution:\n",
    "    def part1(self, data):\n",
    "        equations = []\n",
    "        for line in data:\n",
    "            test_value, numbers = line.split(\":\")\n",
    "            equations.append((int(test_value), [*map(int, numbers.strip().split())]))\n",
    "\n",
    "        result = []\n",
    "\n",
    "        for test_value, numbers in equations:\n",
    "            possibles = [numbers.pop(0)]\n",
    "            while numbers:\n",
    "                curr = numbers.pop(0)\n",
    "                temp = []\n",
    "                for p in possibles:\n",
    "                    temp.append(p + curr)\n",
    "                    temp.append(p * curr)\n",
    "                possibles = temp\n",
    "\n",
    "            if test_value in possibles:\n",
    "                result.append(test_value)\n",
    "\n",
    "        return sum(result)\n",
    "\n",
    "    def part2(self, data):\n",
    "        equations = []\n",
    "        for line in data:\n",
    "            test_value, numbers = line.split(\":\")\n",
    "            equations.append((int(test_value), [*map(int, numbers.strip().split())]))\n",
    "\n",
    "        result = []\n",
    "\n",
    "        for test_value, numbers in equations:\n",
    "            possibles = [numbers.pop(0)]\n",
    "            while numbers:\n",
    "                curr = numbers.pop(0)\n",
    "                temp = []\n",
    "                for p in possibles:\n",
    "                    next_values = [  # +, * and concatenation\n",
    "                        p + curr,\n",
    "                        p * curr,\n",
    "                        int(str(p) + str(curr)),\n",
    "                    ]\n",
    "                    temp.extend([v for v in next_values if v <= test_value])\n",
    "                possibles = temp\n",
    "\n",
    "            if test_value in possibles:\n",
    "                result.append(test_value)\n",
    "\n",
    "        return sum(result)\n",
    "\n",
    "\n",
    "def main():\n",
    "    if len(sys.argv) < 2:\n",
    "        print(\"Usage: python script.py <input.dat>\")\n",
    "        return\n",
    "\n",
    "    input_file = sys.argv[1]\n",
    "    try:\n",
    "        with open(\"input.dat\", \"r\") as file:\n",
    "            data = file.readlines()\n",
    "    except FileNotFoundError:\n",
    "        print(f\"Error: File '{input_file}' not found.\")\n",
    "        return\n",
    "\n",
    "    solution = Solution()\n",
    "    part1_result = solution.part1(data)\n",
    "    part2_result = solution.part2(data)\n",
    "\n",
    "    print(\"Part 1 Result:\", part1_result)\n",
    "    print(\"Part 2 Result:\", part2_result)\n",
    "\n",
    "\n"
   ]
  },
  {
   "cell_type": "code",
   "execution_count": 6,
   "metadata": {},
   "outputs": [
    {
     "name": "stdout",
     "output_type": "stream",
     "text": [
      "Part 1 Result: 1430271835320\n",
      "Part 2 Result: 456565678667482\n"
     ]
    }
   ],
   "source": [
    "main()\n"
   ]
  },
  {
   "cell_type": "code",
   "execution_count": null,
   "metadata": {},
   "outputs": [],
   "source": []
  }
 ],
 "metadata": {
  "kernelspec": {
   "display_name": "Python 3",
   "language": "python",
   "name": "python3"
  },
  "language_info": {
   "codemirror_mode": {
    "name": "ipython",
    "version": 3
   },
   "file_extension": ".py",
   "mimetype": "text/x-python",
   "name": "python",
   "nbconvert_exporter": "python",
   "pygments_lexer": "ipython3",
   "version": "3.10.12"
  }
 },
 "nbformat": 4,
 "nbformat_minor": 2
}
